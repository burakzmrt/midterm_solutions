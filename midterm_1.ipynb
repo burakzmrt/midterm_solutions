{
 "cells": [
  {
   "cell_type": "code",
   "execution_count": 1,
   "metadata": {},
   "outputs": [],
   "source": [
    "# DO NOT CHANGE THIS CELL\n",
    "# YOU ARE NOT ALLOWED TO IMPORT ANYTHING ELSE WITHOUT ASKING FOR PERMISSION FIRST\n",
    "\n",
    "import string\n",
    "import random\n",
    "import math"
   ]
  },
  {
   "cell_type": "markdown",
   "metadata": {},
   "source": [
    "### Question 1: Bank Interest (25 points)\n",
    "\n",
    "You have a savings account with your imaginary local bank called KocBank. You want to calculate what your total balance would be given *starting balance*, *annual interest rate*, *annual overhead* and *years* with compound interest. \n",
    "\n",
    "The formula for 1 year is $b\\times(1+r/100)-o$ where $b$ is the balance, $r$ is the percent interest rate, $o$ is the yearly overhead For example:\n",
    "* Your starting balance is 10000 TRY.\n",
    "* The interest rate is 17%. \n",
    "* Bank overhead is 500 TRY per year.\n",
    "* Let's calculate it for 2 years:\n",
    "    * After the first year, your total balance is 10000 + 10000*0.17-500 = 11200 TRY\n",
    "    * After the second year, your total balance is 11200 + 11200*0.17-500 = 12604 TRY\n",
    "\n",
    "This question has two parts:\n",
    "1. Getting user input and error checking (15 points)\n",
    "2. Balance calculation given desired input (10 points)"
   ]
  },
  {
   "cell_type": "markdown",
   "metadata": {},
   "source": [
    "**Part 1: User Input** (15 points):\n",
    "\n",
    "Write a function that asks for *starting balance*, *annual interest rate*, *annual overhead* and *years* from the user using console input. For each variable:\n",
    "* Starting Balance: Must be a positive `float` (user can enter an integer but treat it as a float). The required string for the input question is `\"Enter starting balance:\"`\n",
    "* Annual Interest Rate: Must be a positive `float` (user can enter an integer but treat it as a float). The required string for the input question is `\"Enter annual interest balance:\"`\n",
    "* Annual Overhead: Must be a positive `float` (user can enter an integer but treat it as a float). The required string for the input question is `\"Enter annual overhead:\"`\n",
    "* Number of Years: Must be a positive `integer`. The required string for the input question is `\"Enter number of years:\"`\n",
    "\n",
    "For each variable, loop until the user enters an allowable value!"
   ]
  },
  {
   "cell_type": "code",
   "execution_count": 2,
   "metadata": {},
   "outputs": [],
   "source": [
    "## Question 1 Part 1: User Input\n",
    "# Feel free to define your own functions (in fact trongly recommended)\n",
    "\n",
    "#Solution\n",
    "def checkInput(text, isFloat = True):\n",
    "    \n",
    "    \n",
    "    flag = True\n",
    "    \n",
    "    while flag:\n",
    "        inp = input(text)\n",
    "        try:\n",
    "            if isFloat:\n",
    "                desired_type = 'a float'\n",
    "                ret_val = float(inp)\n",
    "            else:\n",
    "                desired_type = 'an integer'\n",
    "                ret_val = int(inp)\n",
    "            if ret_val <= 0:\n",
    "                # This below line is left upto you!\n",
    "                print(f\"Must enter a positive number, {ret_val} <= 0\")\n",
    "            else:\n",
    "                flag = False\n",
    "        except:\n",
    "            # This below line is left upto you!\n",
    "            print(f\"User input cannot be converted to {desired_type}\")\n",
    "    \n",
    "    return ret_val\n",
    "\n",
    "\n",
    "def getUserInput():\n",
    "    # Fill the below variables below with user input\n",
    "    starting_balance = None #Starting Balance, float\n",
    "    interest_rate = None    #Annual Interest Rate, float\n",
    "    overhead = None         #Annual Overhead, float\n",
    "    years = None            #Number of Years, integer\n",
    "    \n",
    "    # Given to help you, feel free to not use these\n",
    "    start_balance_string = \"Enter starting balance:\"\n",
    "    interest_rate_string = \"Enter annual interest rate:\"\n",
    "    overhead_string = \"Enter anual overhead:\"\n",
    "    years_string = \"Enter number of years:\"\n",
    "    \n",
    "    # Solution\n",
    "    starting_balance = checkInput(start_balance_string)\n",
    "    interest_rate = checkInput(interest_rate_string)\n",
    "    overhead = checkInput(overhead_string)\n",
    "    year = checkInput(years_string, False)\n",
    "    \n",
    "    # Do not modify this function below this line\n",
    "    return starting_balance, interest_rate, overhead, year"
   ]
  },
  {
   "cell_type": "code",
   "execution_count": 3,
   "metadata": {},
   "outputs": [],
   "source": [
    "# You can use this function to test part 2\n",
    "def randomInput():\n",
    "    starting_balance = random.random()*20000 \n",
    "    interest_rate = random.random()*20\n",
    "    overhead = 100+random.random()*1000        \n",
    "    years = random.randint(1,15)            \n",
    "    \n",
    "    return starting_balance, interest_rate, overhead, years"
   ]
  },
  {
   "cell_type": "code",
   "execution_count": 4,
   "metadata": {},
   "outputs": [
    {
     "name": "stdout",
     "output_type": "stream",
     "text": [
      "Enter starting balance:10000\n",
      "Enter annual interest rate:17\n",
      "Enter anual overhead:500\n",
      "Enter number of years:2\n"
     ]
    },
    {
     "data": {
      "text/plain": [
       "(10000.0, 17.0, 500.0, 2)"
      ]
     },
     "execution_count": 4,
     "metadata": {},
     "output_type": "execute_result"
    }
   ],
   "source": [
    "getUserInput()"
   ]
  },
  {
   "cell_type": "markdown",
   "metadata": {},
   "source": [
    "**Part 2: Balance Calculation**: (10 points)\n",
    "\n",
    "Write a function that takes *starting balance*, *annual interest rate*, *annual overhead* and *years* as input and returns the list of yearly account balances based on the math given above. For the example given before, it should return `[11200.0, 12604.0]``. Do not worry about rounding errors (e.g. 11199.9999999...)."
   ]
  },
  {
   "cell_type": "code",
   "execution_count": 5,
   "metadata": {},
   "outputs": [],
   "source": [
    "def calculateBalancePerYear(starting_balance, interest_rate, overhead, year):\n",
    "    # Implement the given compund interest math above. For a single year this was, (b*(1+r/100)-o)\n",
    "    balancePerYear = []\n",
    "    \n",
    "    #Solution\n",
    "    balance = starting_balance\n",
    "    for i in range(year):\n",
    "        balance = balance*(1+interest_rate/100)-overhead\n",
    "        balancePerYear.append(balance)\n",
    "    \n",
    "    \n",
    "    return balancePerYear"
   ]
  },
  {
   "cell_type": "code",
   "execution_count": 6,
   "metadata": {},
   "outputs": [
    {
     "name": "stdout",
     "output_type": "stream",
     "text": [
      "[11200.0, 12604.0]\n",
      "12289.251061526447 5.360782373390236 676.7370979170194 12\n",
      "[12271.31396833741, 12252.415306618397, 12232.503528773144, 12211.524323850936, 12189.420469409179, 12166.131675434668, 12141.594419897798, 12115.741775491193, 12088.503227080184, 12059.804479367189, 12029.567254245412, 11997.709077289106]\n"
     ]
    }
   ],
   "source": [
    "# THIS CELL IS GIVEN TO YOU TO TEST YOUR CODE\n",
    "# We will not use it so feel free to modify it\n",
    "\n",
    "# Easy test\n",
    "easy_lst = calculateBalancePerYear(10000,17,500,2) # should return [11200.0, 12604.0]\n",
    "\n",
    "print(easy_lst)\n",
    "\n",
    "# More tests, do the math by hand and see\n",
    "starting_balance, interest_rate, overhead, year = randomInput()\n",
    "\n",
    "lst = calculateBalancePerYear(starting_balance, interest_rate, overhead, year)\n",
    "print(starting_balance, interest_rate, overhead, year)\n",
    "print(lst)"
   ]
  },
  {
   "cell_type": "markdown",
   "metadata": {},
   "source": [
    "### Question 2: Sentence Capitalization (40 points)\n",
    "\n",
    "Write a function called `capitalizer(sentences, punctuations, names)` that takes as input (no error checking needed):\n",
    "* `sentences`: A potentially long string, which consists of multiple lowercase sentences\n",
    "* `punctuations`: A list which denotes the end of a sentence, thus the first alphabetic character coming after the punctuation should be capitalized. Can be anything so do not make any assumptions\n",
    "* `names`: A list which consists of names that should be capitalized. You can assume that there are no white spaces here\n",
    "\n",
    "And outputs a string that is the correctly capitalized version of the input string `sentences` according to the punctuations and names. In particular, there are two rules:\n",
    "* The first alphabetic character after any character in the `punctuations` list should be capitalized.\n",
    "* First letters of people’s names in the `names` list should be capitalized.\n",
    "\n",
    "**Example 1:**  \n",
    "Given\n",
    "* `sentences = \"hello, my name is joe. what is your name? my name is john.\"`\n",
    "* `punctuations = ['.', '!', '?']`\n",
    "* `names = [\"John\", \"James\", \"Alice\", \"Bob\", \"Joe\"]`\n",
    "\n",
    "`capitalizer(sentences, punctuations, names)` should return:\n",
    "* `\"Hello, my name is Joe. What is your name? My name is John.\"`\n",
    "\n",
    "**Example 2:**  \n",
    "Given\n",
    "* `sentences = \"interesting! please tell me more. how can james do that?\"`\n",
    "* `punctuations = ['.', '!', '?']`\n",
    "* `names = [\"John\", \"James\", \"Alice\", \"Bob\", \"Joe\"]`\n",
    "\n",
    "`capitalizer(sentences, punctuations, names)` should return:\n",
    "* `\"Interesting! Please tell me more. How can James do that?\"`\n",
    "\n",
    "You can assume `sentences`, `punctuations`, and `names` all valid inputs. You do not need to do error checking. Fill in the functions given below. Feel free to add your own functions as well.\n",
    "\n",
    "Hints: \n",
    "* You need to iterate over the input string and will need to build a new string. Feel free to use concatenation and do not worry about speed.\n",
    "* There is a string function called `capitalize(in_str)` that returns a string with the first character of the input string is converted to upper case, and the rest are converted to lower case\n",
    "\n"
   ]
  },
  {
   "cell_type": "code",
   "execution_count": 7,
   "metadata": {},
   "outputs": [],
   "source": [
    "# MODIFY THIS CELL\n",
    "\n",
    "# Solution\n",
    "\n",
    "# Added by us\n",
    "# get_word function takes the sentence, current evaluated sentences poisiton punctuation list, space list as input\n",
    "# It returns the found word, position right after the word and whether we stopped due to a puntuation or a space\n",
    "def get_word(sentences,i,punctuations,spaces=[' ','\\n','\\t']):\n",
    "    n = len(sentences)\n",
    "    word = ''\n",
    "    punc_stop = False\n",
    "    # start from the current position\n",
    "    for j in range(i,n):\n",
    "        #check character by character\n",
    "        c = sentences[j]\n",
    "        #if we hit a punctuation, stop\n",
    "        if c in punctuations:\n",
    "            punc_stop = True\n",
    "            break\n",
    "        #if we hit a space, stop\n",
    "        elif c in spaces:\n",
    "            break\n",
    "        #if the character is not a punctuation of space, add it to the word\n",
    "        else:\n",
    "            word += c\n",
    "    return word, j, punc_stop\n",
    "\n",
    "def capitalizer(sentences, punctuations, names):\n",
    "    \n",
    "    new_s = ''\n",
    "    i = 0\n",
    "    n = len(sentences)\n",
    "    ps_cur = True\n",
    "    while i < n:\n",
    "        # get the words one by one\n",
    "        word, i, ps_next = get_word(sentences,i,punctuations)\n",
    "        \n",
    "        wc = word.capitalize()\n",
    "        # if the word is coming after a punctuation\n",
    "        # or if it is a name, capitalize the first character! \n",
    "        # can also do it with the upper function\n",
    "        if (ps_cur or wc in names):\n",
    "            new_s += wc\n",
    "        else:\n",
    "            new_s += word\n",
    "        \n",
    "        # punctuation stop or not\n",
    "        ps_cur = ps_next\n",
    "        \n",
    "        # if the character is not a letter, directly add it, no need to check for anything\n",
    "        # this will probably not come up for grading\n",
    "        while not sentences[i].isalpha():\n",
    "            new_s += sentences[i]\n",
    "            i += 1\n",
    "            if i == n:\n",
    "                break\n",
    "                \n",
    "    return new_s # replace this with the correct return value"
   ]
  },
  {
   "cell_type": "code",
   "execution_count": 8,
   "metadata": {},
   "outputs": [],
   "source": [
    "def main(example1 = True):\n",
    "    \"\"\"\n",
    "    You can test your capitalizer() via the function calls below.\n",
    "    You can add more tests if you want to, but you do not have to. \n",
    "    You will not be graded on what is inside your main() function, but\n",
    "    make sure that it does not cause a syntax error.\n",
    "    \"\"\"\n",
    "    if example1:\n",
    "        sentences = \"hello, my name is joe. what is your name? my name is john.\"\n",
    "        punctuations = ['.', '!', '?']\n",
    "        names = [\"John\", \"James\", \"Alice\", \"Bob\", \"Joe\"]\n",
    "        print(capitalizer(sentences, punctuations, names))\n",
    "    else:\n",
    "        sentences = \"interesting! please tell me more. how can james do that?\"\n",
    "        punctuations = ['.', '!', '?']\n",
    "        names = [\"John\", \"James\", \"Alice\", \"Bob\", \"Joe\"]\n",
    "        print(capitalizer(sentences, punctuations, names))"
   ]
  },
  {
   "cell_type": "code",
   "execution_count": 9,
   "metadata": {},
   "outputs": [
    {
     "name": "stdout",
     "output_type": "stream",
     "text": [
      "Hello, my name is Joe. What is your name? My name is John.\n"
     ]
    }
   ],
   "source": [
    "main() #\"Hello, my name is Joe. What is your name? My name is John.\""
   ]
  },
  {
   "cell_type": "code",
   "execution_count": 10,
   "metadata": {},
   "outputs": [
    {
     "name": "stdout",
     "output_type": "stream",
     "text": [
      "Interesting! Please tell me more. How can James do that?\n"
     ]
    }
   ],
   "source": [
    "main(False) #\"Interesting! Please tell me more. How can James do that?\""
   ]
  },
  {
   "cell_type": "markdown",
   "metadata": {},
   "source": [
    "### Question 3: Throwing Dice (35 points)\n",
    "\n",
    "You are asked throw a given amount of pairs of dice and answer some questions about the outcome.\n",
    "\n",
    "Recall that a single die yields integer values between 1 and 6 (inclusive). Each value is equally likely with 1/6 probability. A pair of dice yields a total between 2 and 12. However, the probabilities of the total being 2, 3, …, 12 are not equal. You will have a total of 12 with probability 1/36 (only possibility is 6+6=12), and a total of 7 with probability 6/36 (possibilities: 1-6, 2-5, 3-4, 4-3, 5-2, 6-1). \n",
    "\n",
    "The code to throw a single die is given to you below in `throwSingleDie`. Use this function to throw a pair of dice.\n",
    "\n",
    "This question has two parts:\n",
    "1. Recording dice throws (not the total but the pair outcome) in a container (15 points)\n",
    "2. Calculating the empirical probabilities of the pair of dice throws (20 points)\n",
    "\n",
    "You will be assessed on your\n",
    "\n",
    "Some notes:\n",
    "* These parts are intertwined, unlike question 1. The function you implement in part 1 will output a container of your choice (list, tuple, set, dictionary or some nested combination of these) with the format of your choice. This will be input to the second part. \n",
    "* You will be assessed based on your selection of this container and its elements. We will evaluate the computational efficiency of your code.\n",
    "* Thus, make your decision with both parts in question. **Read both parts before deciding.**\n",
    "\n",
    "**If you cannot do part 1**: Describe your assumed container in the comments for part 2 and implement it accordingly. If it makes sense, we will try our best to evaluate your code accordingly. This option is given so that you do not lose 35 points just for part 1. However, if your explanation must be clear enough. We will not take an explanation during the objections and only interpret your comments while grading \n",
    "\n"
   ]
  },
  {
   "cell_type": "code",
   "execution_count": 11,
   "metadata": {},
   "outputs": [],
   "source": [
    "#DO NOT MODIFY THIS CELL\n",
    "\n",
    "# Do not call this more than you need to. E.g. if you are asked to throw 100 pairs of dice, this should run for 200 times!\n",
    "num_total_throws = 0\n",
    "def throwSingleDie():\n",
    "    global num_total_throws\n",
    "    num_total_throws += 1\n",
    "    return random.randint(1,6)"
   ]
  },
  {
   "cell_type": "markdown",
   "metadata": {},
   "source": [
    "**Part 1: Record Dice Throws** (15 points):\n",
    "\n",
    "Write a function called `recordDiceThrows` that takes the number of throws as input (no need to do error checking), performs the given amount of pair of dice rolls and counts them along the way, and returns a container of pair counts. **This is not the count for the total but for pairs**, e.g. number of 1-6's instead of 7. Do not merge the symmetric rolls! (e.g. keep 1-6 and 6-1 separate).\n",
    "\n",
    "You are free to chose the container and element format. However, your design choice must be immediately be obvious to someone when they print the container."
   ]
  },
  {
   "cell_type": "code",
   "execution_count": 12,
   "metadata": {},
   "outputs": [],
   "source": [
    "#Solution\n",
    "# We are going to use a dictionary to keep counts\n",
    "def recordDiceThrows(number_of_throws):\n",
    "    diceRecord = {}\n",
    "    \n",
    "    for i in range(number_of_throws):\n",
    "        d1 = throwSingleDie()\n",
    "        d2 = throwSingleDie()\n",
    "        \n",
    "        diceRecord[(d1,d2)] = diceRecord.get((d1,d2),0) + 1 \n",
    "    \n",
    "    return diceRecord"
   ]
  },
  {
   "cell_type": "markdown",
   "metadata": {},
   "source": [
    "**Part 2: Empirical Probability of the Total** (20 points):\n",
    "\n",
    "Write a function called `calculateEmpiricalPobs` that takes the container that is returned by the function `recordDiceThrows`, calculates the empirical probability of a total, and returns a list of tuples containing this information for each total between 2 and 12, including zero counts. Note that all the probabilities should sum up to 1 (not taking rounding up errors into account).\n",
    "\n",
    "For example:\n",
    "* We have 1-6:2, 3-4:1, 5-6:1, 6-1:1, 4-4:2, 2-3:1 (this information is coming from part 1)\n",
    "* The total throws: 2+1+1+1+2+1=8\n",
    "* The total probabilities are \n",
    "    * 7: (2+1+1)/8 = 0.5\n",
    "    * 11: 1/8 = 0.125\n",
    "    * 8: 2/8 = 0.25\n",
    "    * 5: 1/9 = 0.125\n",
    "* The return list is `[(2,0.), (3,0.), (4,0.), (5,0.125), (6,0.), (7,0.5), (8,0.25), (9,0.), (10,0.25), (11,0.125), (12,0.)]`. \n",
    "    * **Important Warning:** This format is not a hint for part 1. It may not be even the best choice to represent this. We are specifying this to make grading easier. "
   ]
  },
  {
   "cell_type": "code",
   "execution_count": 13,
   "metadata": {},
   "outputs": [],
   "source": [
    "def calculateEmpiricalProbs(diceThrowsContainer):\n",
    "    #Solution\n",
    " \n",
    "    emp_probs = {}   \n",
    "    total_count = 0\n",
    "    \n",
    "    # Get total number of throws\n",
    "    for count in diceThrowsContainer.values():\n",
    "        total_count += count\n",
    "    # Perform the probability calculation\n",
    "    for key, count  in diceThrowsContainer.items():\n",
    "        total = key[0] + key[1]\n",
    "        emp_probs[total] = emp_probs.get(total,0) + count/total_count\n",
    "    \n",
    "    # Convert to the desired format\n",
    "    emp_prob_list = []\n",
    "    for i in range(2,13):\n",
    "        emp_prob_list.append((i,emp_probs.get(i,0)))\n",
    "    \n",
    "    return emp_prob_list\n",
    "    "
   ]
  },
  {
   "cell_type": "code",
   "execution_count": 14,
   "metadata": {},
   "outputs": [
    {
     "name": "stdout",
     "output_type": "stream",
     "text": [
      "{(1, 2): 2, (4, 4): 1, (4, 6): 1, (6, 5): 1, (5, 4): 1, (1, 1): 1, (2, 3): 1, (6, 1): 1, (1, 6): 1}\n",
      "\n",
      "[(2, 0.1), (3, 0.2), (4, 0), (5, 0.1), (6, 0), (7, 0.2), (8, 0.1), (9, 0.1), (10, 0.1), (11, 0.1), (12, 0)]\n"
     ]
    }
   ],
   "source": [
    "# An example call\n",
    "throwRecord = recordDiceThrows(10)\n",
    "print(throwRecord)\n",
    "print()\n",
    "probs = calculateEmpiricalProbs(throwRecord)\n",
    "print(probs)"
   ]
  }
 ],
 "metadata": {
  "kernelspec": {
   "display_name": "Python 3",
   "language": "python",
   "name": "python3"
  },
  "language_info": {
   "codemirror_mode": {
    "name": "ipython",
    "version": 3
   },
   "file_extension": ".py",
   "mimetype": "text/x-python",
   "name": "python",
   "nbconvert_exporter": "python",
   "pygments_lexer": "ipython3",
   "version": "3.7.6"
  }
 },
 "nbformat": 4,
 "nbformat_minor": 4
}
