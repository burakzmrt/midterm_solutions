{
 "cells": [
  {
   "cell_type": "code",
   "execution_count": 1,
   "metadata": {},
   "outputs": [],
   "source": [
    "\n",
    "\n",
    "import string\n",
    "import random\n",
    "import math\n",
    "\n",
    "import numpy as np"
   ]
  },
  {
   "cell_type": "markdown",
   "metadata": {},
   "source": [
    "### Question 1:Student Grades (60 points)\n",
    "\n",
    "You are given a csv file of student grades with some meta-data. You are asked to calculate the final point grade of the students. The format of the given file is as follows:\n",
    "* The first line contains the name of the course\n",
    "* The second line contains the number of students\n",
    "* The third line contains the text \"ID\" and names of the graded work (homeworks, midterm exams and the final exam), all of which are separated with commas. The details will be given later\n",
    "* The remaining lines contain the information corresponding to the information given in the third line in a comma separated list.\n",
    "\n",
    "A simple example is given below (also in files/simple.txt)  \n",
    "\n",
    "    UNIV111  \n",
    "    5  \n",
    "    ID,HW1,HW2,MT,Final  \n",
    "    7749,76.,55.,62.,73.  \n",
    "    6659,44.,78.,31.,67.  \n",
    "    1583,25.,85,86,30.  \n",
    "    1023,46.,26.,75.,31.  \n",
    "    1479,78.,52.,82.,40.  "
   ]
  },
  {
   "cell_type": "markdown",
   "metadata": {},
   "source": [
    "**Part I:** Read the File (25 points)\n",
    "\n",
    "The column names, aside from the id, given in the third line of the file dictate the grade type. These are as follows:\n",
    "* All the names that start with `'HW'` are homeworks. There may be multiple homeworks. They will always have unique names.\n",
    "* All the names that start with `'MT'` are midterms. There may be multiple exams. They will always have unique names.\n",
    "* The name `'Final'` is the final. There is always one final.\n",
    "\n",
    "Implement this in the `read_grades` function below. You do not need to do any error handling.\n"
   ]
  },
  {
   "cell_type": "code",
   "execution_count": 1,
   "metadata": {},
   "outputs": [],
   "source": [
    "def read_grades(path_to_file):\n",
    "    \"\"\"\n",
    "    Inputs: \n",
    "    path_to_file: The path to the grades file with the format defined above\n",
    "    \n",
    "    Outputs: \n",
    "    course_name: The name of the course\n",
    "    ids: The numpy array containing student ids. Type 'int32'\n",
    "    hws: The numpy array containing the homework grades. \n",
    "         Shape depends on the number of homework columns. Type 'float64'\n",
    "    mts: The numpy array containing the midterm grades\n",
    "         Shape depends on the number of midterm columns. Type 'float64'\n",
    "    f: The numpy array containing the final grades. Type 'float64'\n",
    "    \"\"\"\n",
    "    \n",
    "    # YOUR CODE HERE\n",
    "    with open(path_to_file,'r') as file:\n",
    "        course_name = file.readline().rstrip()\n",
    "        num_students = int(file.readline().rstrip())\n",
    "        column_names = file.readline().rstrip().split(',')\n",
    "        num_columns = len(column_names)\n",
    "\n",
    "        num_hws = 0\n",
    "        num_mts = 0\n",
    "        \n",
    "        for name in column_names:\n",
    "            if name[:2] == 'HW':\n",
    "                num_hws += 1\n",
    "            if name[:2] == 'MT':\n",
    "                num_mts += 1\n",
    "        \n",
    "        ids = np.empty((num_students,),dtype='int32')\n",
    "        f = np.empty((num_students,))\n",
    "        \n",
    "        hws = np.empty((num_students,num_hws))\n",
    "        mts = np.empty((num_students,num_mts))\n",
    "        \n",
    "        current_row = 0\n",
    "        for line in file:\n",
    "            current_col = 0\n",
    "            values = line.rstrip().split(',')\n",
    "            ids[current_row] = values[current_col]\n",
    "            current_col += 1\n",
    "            \n",
    "            for i in range(num_hws):\n",
    "                hws[current_row,i] = values[current_col]\n",
    "                current_col += 1\n",
    "            \n",
    "            for i in range(num_mts):\n",
    "                mts[current_row,i] = values[current_col]\n",
    "                current_col += 1\n",
    "            \n",
    "            f[current_row] = values[current_col]\n",
    "            \n",
    "            \n",
    "            current_row += 1\n",
    "\n",
    "        hws = hws.squeeze()\n",
    "        mts = mts.squeeze()\n",
    "        \n",
    "    \n",
    "    return course_name, ids, hws, mts, f"
   ]
  },
  {
   "cell_type": "code",
   "execution_count": 2,
   "metadata": {},
   "outputs": [
    {
     "ename": "FileNotFoundError",
     "evalue": "[Errno 2] No such file or directory: './files/simple.txt'",
     "output_type": "error",
     "traceback": [
      "\u001b[1;31m---------------------------------------------------------------------------\u001b[0m",
      "\u001b[1;31mFileNotFoundError\u001b[0m                         Traceback (most recent call last)",
      "\u001b[1;32m<ipython-input-2-7cd78b6ac4c2>\u001b[0m in \u001b[0;36m<module>\u001b[1;34m\u001b[0m\n\u001b[1;32m----> 1\u001b[1;33m \u001b[0mcourse_name\u001b[0m\u001b[1;33m,\u001b[0m \u001b[0mids\u001b[0m\u001b[1;33m,\u001b[0m \u001b[0mhws\u001b[0m\u001b[1;33m,\u001b[0m \u001b[0mmts\u001b[0m\u001b[1;33m,\u001b[0m \u001b[0mf\u001b[0m \u001b[1;33m=\u001b[0m \u001b[0mread_grades\u001b[0m\u001b[1;33m(\u001b[0m\u001b[1;34m'./files/simple.txt'\u001b[0m\u001b[1;33m)\u001b[0m\u001b[1;33m\u001b[0m\u001b[1;33m\u001b[0m\u001b[0m\n\u001b[0m\u001b[0;32m      2\u001b[0m \u001b[1;33m\u001b[0m\u001b[0m\n\u001b[0;32m      3\u001b[0m \u001b[0mcnDebug\u001b[0m \u001b[1;33m=\u001b[0m \u001b[1;34m'UNIV111'\u001b[0m\u001b[1;33m\u001b[0m\u001b[1;33m\u001b[0m\u001b[0m\n\u001b[0;32m      4\u001b[0m \u001b[0midDebug\u001b[0m \u001b[1;33m=\u001b[0m \u001b[0mnp\u001b[0m\u001b[1;33m.\u001b[0m\u001b[0marray\u001b[0m\u001b[1;33m(\u001b[0m\u001b[1;33m[\u001b[0m\u001b[1;36m7749\u001b[0m\u001b[1;33m,\u001b[0m \u001b[1;36m6659\u001b[0m\u001b[1;33m,\u001b[0m \u001b[1;36m1583\u001b[0m\u001b[1;33m,\u001b[0m \u001b[1;36m1023\u001b[0m\u001b[1;33m,\u001b[0m \u001b[1;36m1479\u001b[0m\u001b[1;33m]\u001b[0m\u001b[1;33m)\u001b[0m\u001b[1;33m\u001b[0m\u001b[1;33m\u001b[0m\u001b[0m\n\u001b[0;32m      5\u001b[0m hwDebug = np.array([[76., 55.],\n",
      "\u001b[1;32m<ipython-input-1-bf6475a3da98>\u001b[0m in \u001b[0;36mread_grades\u001b[1;34m(path_to_file)\u001b[0m\n\u001b[0;32m     15\u001b[0m \u001b[1;33m\u001b[0m\u001b[0m\n\u001b[0;32m     16\u001b[0m     \u001b[1;31m# YOUR CODE HERE\u001b[0m\u001b[1;33m\u001b[0m\u001b[1;33m\u001b[0m\u001b[1;33m\u001b[0m\u001b[0m\n\u001b[1;32m---> 17\u001b[1;33m     \u001b[1;32mwith\u001b[0m \u001b[0mopen\u001b[0m\u001b[1;33m(\u001b[0m\u001b[0mpath_to_file\u001b[0m\u001b[1;33m,\u001b[0m\u001b[1;34m'r'\u001b[0m\u001b[1;33m)\u001b[0m \u001b[1;32mas\u001b[0m \u001b[0mfile\u001b[0m\u001b[1;33m:\u001b[0m\u001b[1;33m\u001b[0m\u001b[1;33m\u001b[0m\u001b[0m\n\u001b[0m\u001b[0;32m     18\u001b[0m         \u001b[0mcourse_name\u001b[0m \u001b[1;33m=\u001b[0m \u001b[0mfile\u001b[0m\u001b[1;33m.\u001b[0m\u001b[0mreadline\u001b[0m\u001b[1;33m(\u001b[0m\u001b[1;33m)\u001b[0m\u001b[1;33m.\u001b[0m\u001b[0mrstrip\u001b[0m\u001b[1;33m(\u001b[0m\u001b[1;33m)\u001b[0m\u001b[1;33m\u001b[0m\u001b[1;33m\u001b[0m\u001b[0m\n\u001b[0;32m     19\u001b[0m         \u001b[0mnum_students\u001b[0m \u001b[1;33m=\u001b[0m \u001b[0mint\u001b[0m\u001b[1;33m(\u001b[0m\u001b[0mfile\u001b[0m\u001b[1;33m.\u001b[0m\u001b[0mreadline\u001b[0m\u001b[1;33m(\u001b[0m\u001b[1;33m)\u001b[0m\u001b[1;33m.\u001b[0m\u001b[0mrstrip\u001b[0m\u001b[1;33m(\u001b[0m\u001b[1;33m)\u001b[0m\u001b[1;33m)\u001b[0m\u001b[1;33m\u001b[0m\u001b[1;33m\u001b[0m\u001b[0m\n",
      "\u001b[1;31mFileNotFoundError\u001b[0m: [Errno 2] No such file or directory: './files/simple.txt'"
     ]
    }
   ],
   "source": [
    "course_name, ids, hws, mts, f = read_grades('./files/simple.txt')\n",
    "\n",
    "cnDebug = 'UNIV111'\n",
    "idDebug = np.array([7749, 6659, 1583, 1023, 1479])\n",
    "hwDebug = np.array([[76., 55.],\n",
    "                    [44., 78.],\n",
    "                    [25., 85.],\n",
    "                    [46., 26.],\n",
    "                    [78., 52.]])\n",
    "mtDebug = np.array([62., 31., 86., 75., 82.]) #could also be 2D, in fact needs to be 2D if there are more than 1 midterm\n",
    "fDebug = np.array([73., 67., 30., 31., 40.])"
   ]
  },
  {
   "cell_type": "code",
   "execution_count": 4,
   "metadata": {},
   "outputs": [
    {
     "name": "stdout",
     "output_type": "stream",
     "text": [
      "True\n",
      "True\n",
      "True\n",
      "True\n",
      "True\n"
     ]
    }
   ],
   "source": [
    "print(cnDebug==course_name)\n",
    "print(((ids-idDebug) == 0).all())\n",
    "print(((hws-hwDebug) == 0).all())\n",
    "print(((mts-mtDebug) == 0).all())\n",
    "print(((f-fDebug) == 0).all())"
   ]
  },
  {
   "cell_type": "markdown",
   "metadata": {},
   "source": [
    "**Part II:** Calculate the Weighted Average (10 points)\n",
    "\n",
    "The weighted average is calculated as follows:  \n",
    "$Weighted Average = \\alpha_{hw} \\cdot \\mu_{HW} + \\alpha_{mt} \\cdot \\mu_{MT} + \\alpha_{f} \\cdot  F$  \n",
    "\n",
    "where $\\mu_{HW}$ is the average of the homeworks, $\\mu_{MT}$ is the average of the midterms $F$ is the final grade and $\\alpha = [\\alpha_{hw} \\alpha_{mt} \\alpha_{f}]$ is their respective weights. \n",
    "\n",
    "Implement this in the `WeightedAverage` function below. \n",
    "\n",
    "(We will supply our own data so do not worry if you were not able to do Part I)"
   ]
  },
  {
   "cell_type": "code",
   "execution_count": 5,
   "metadata": {},
   "outputs": [],
   "source": [
    "def WeightedAverage(grades, alpha = [0.25,0.3,0.45]):\n",
    "    \"\"\"\n",
    "    This function calculates the weighted average of all the graded items.\n",
    "    \n",
    "    Inputs: \n",
    "    grades: The container of homeworks, midterm and final grades. \n",
    "    alpha: A list or 1D NumPy array of size 3 with the weights.\n",
    "           The order is homework weight, midterm weight and final weight\n",
    "           \n",
    "           \n",
    "    Outputs:\n",
    "    weighted: 1D NumPy array of the weighted average of the grades as calculated above.\n",
    "    The indices of the student_ids and grades must match\n",
    "    \"\"\"\n",
    "    \n",
    "    # YOUR CODE HERE\n",
    "    if len(grades[0].shape) == 1:\n",
    "        muHW = grades[0]\n",
    "    else:\n",
    "        muHW = grades[0].mean(axis=1)\n",
    "        \n",
    "    if len(grades[1].shape) == 1:\n",
    "        muMT = grades[1]\n",
    "    else:\n",
    "        muMT = grades[1].mean(axis=1)\n",
    "        \n",
    "    weighted = muHW*alpha[0] + muMT*alpha[1] + grades[2]*alpha[2]\n",
    "            \n",
    "    return weighted\n",
    "    "
   ]
  },
  {
   "cell_type": "code",
   "execution_count": 6,
   "metadata": {},
   "outputs": [
    {
     "name": "stdout",
     "output_type": "stream",
     "text": [
      "[-1.42108547e-14 -7.10542736e-15 -7.10542736e-15  0.00000000e+00\n",
      "  0.00000000e+00]\n"
     ]
    }
   ],
   "source": [
    "hws = hwDebug\n",
    "mts = mtDebug\n",
    "f = fDebug\n",
    "weighted = WeightedAverage((hws, mts, f), [0.3,0.35,0.35])\n",
    "\n",
    "weightedDebug = [66.9, 52.6 , 57.1 , 47.9 , 62.2]\n",
    "\n",
    "print(weighted-weightedDebug)"
   ]
  },
  {
   "cell_type": "code",
   "execution_count": 7,
   "metadata": {},
   "outputs": [],
   "source": [
    "# A bit more involved:\n",
    "course_name2, ids2, hws2, mts2, f2= read_grades('./files/comp101.txt')\n",
    "weighted2 = WeightedAverage((hws2, mts2, f2), [0.25,0.35,0.4])"
   ]
  },
  {
   "cell_type": "markdown",
   "metadata": {},
   "source": [
    "Look at this [spreadsheet](https://docs.google.com/spreadsheets/d/1q792k5Ltk1i17BtDA5OO2oVOI8iy28ghezn5x1JHsgU/edit?usp=sharing) for debugging"
   ]
  },
  {
   "cell_type": "markdown",
   "metadata": {},
   "source": [
    "**Part III:** Summary Output (25 points)\n",
    "\n",
    "You are asked to write the grades summary in a file. The format is as follows:\n",
    "\n",
    "    Course Name: <course_name>\n",
    "    Number of Enrolled Students: <num_students>\n",
    "    Student with the Highest Grade: <highest_id>\n",
    "    Student with the Lowest Grade: <lowest_id>\n",
    "\n",
    "    Weighted Average\n",
    "    - Minimum Grade: <min_wavg_grade>\n",
    "    - Maximum Grade: <max_wavg_grade>\n",
    "    - Average Grade: <avg_wavg_grade>\n",
    "    - Median Grade: <med_wavg_grade>\n",
    "\n",
    "    HW<i>\n",
    "    - Minimum Grade: <min_hwi_grade>\n",
    "    - Maximum Grade: <max_hwi_grade>\n",
    "    - Average Grade: <avg_hwi_grade>\n",
    "    - Median Grade: <med_hwi_grade>\n",
    "\n",
    "    MT<i>\n",
    "    - Minimum Grade: <min_mti_grade>\n",
    "    - Maximum Grade: <max_mti_grade>\n",
    "    - Average Grade: <avg_mti_grade>\n",
    "    - Median Grade: <med_mti_grade>\n",
    "\n",
    "    Final\n",
    "    - Minimum Grade: <min_fin_grade>\n",
    "    - Maximum Grade: <max_fin_grade>\n",
    "    - Average Grade: <avg_fin_grade>\n",
    "    - Median Grade: <med_fin_grade>\n",
    "    \n",
    "The text in angle brackets are taken or calculated from the grades. All the grade number should be **rounded to 2 decimal places**. The HW and MT blocks are repeated as many times as needed. An example is given to you in the files/simpleSummaryExpected.txt.\n",
    "\n",
    "Implement the code to write this output in the `summaryOutput` function below.\n",
    "\n",
    "(We will supply our own data so do not worry if you were not able to do Part I or II. Use the given debugging variables above to test your code in this case)"
   ]
  },
  {
   "cell_type": "code",
   "execution_count": 8,
   "metadata": {},
   "outputs": [],
   "source": [
    "def getBlockText(title, data):\n",
    "    min_grade = data.min()\n",
    "    max_grade = data.max()\n",
    "    avg_grade = data.mean()\n",
    "    med_grade = np.median(data)\n",
    "    \n",
    "    return f\"\"\"{title}\n",
    "- Minimum Grade: {min_grade:.2f}\n",
    "- Maximum Grade: {max_grade:.2f}\n",
    "- Average Grade: {avg_grade:.2f}\n",
    "- Median Grade: {med_grade:.2f}\"\"\"\n",
    "\n",
    "def writeMultiples(baseTitle, data, file):\n",
    "    singleRun = True\n",
    "    if data.ndim > 1:\n",
    "        if data.shape[1] > 1:\n",
    "            singleRun = False\n",
    "    if singleRun:\n",
    "        file.write(getBlockText(baseTitle, data))\n",
    "    else:\n",
    "        for i in range(data.shape[1]):\n",
    "            file.write(getBlockText(f\"{baseTitle}{i}\", data[i,:]))\n",
    "            if i != data.shape[1]-1:\n",
    "                file.write(\"\\n\\n\")\n",
    "\n",
    "# End of file newlines will not matter\n",
    "def summaryOutput(path_to_file, course_name, ids, hws, mts, f, weighted_average):\n",
    "    \"\"\"\n",
    "    This function writes the summary of the grades to a given file.\n",
    "    \n",
    "    Inputs:\n",
    "    path_to_file: The desired path of the output file\n",
    "    course_name, ids, hws, mts, f, weighted_average: are all as defined previously in the notebook\n",
    "    \n",
    "    Outputs:\n",
    "    None \n",
    "    \"\"\"\n",
    "    \n",
    "    num_students = f.shape[0]\n",
    "    highest_id = ids[np.argmax(weighted_average)]\n",
    "    lowest_id = ids[np.argmin(weighted_average)]\n",
    "    \n",
    "    headerBoilerPlate = f\"\"\"Course Name: {course_name}\n",
    "Number of Enrolled Students: {num_students}\n",
    "Student with the Highest Grade: {highest_id}\n",
    "Student with the Lowest Grade: {lowest_id}\n",
    "\"\"\"\n",
    "    \n",
    "    # YOUR CODE HERE\n",
    "    with open(path_to_file, 'w') as summary:\n",
    "        summary.write(headerBoilerPlate+\"\\n\")        \n",
    "        writeMultiples(\"Weighted Average\", weighted_average, summary)\n",
    "        summary.write(\"\\n\\n\")\n",
    "        writeMultiples('HW', hws, summary)\n",
    "        summary.write(\"\\n\\n\")\n",
    "        writeMultiples('MT', mts, summary)\n",
    "        summary.write(\"\\n\\n\")\n",
    "        writeMultiples(\"Final\",f, summary)\n",
    "    \n",
    "    return None"
   ]
  },
  {
   "cell_type": "code",
   "execution_count": 9,
   "metadata": {},
   "outputs": [],
   "source": [
    "course_name = cnDebug\n",
    "ids = idDebug\n",
    "summaryOutput('./files/simpleSummary.txt', course_name, ids, hws, mts, f, weighted)"
   ]
  },
  {
   "cell_type": "code",
   "execution_count": 10,
   "metadata": {},
   "outputs": [],
   "source": [
    "with open('./files/simpleSummaryExpected.txt') as tmp:\n",
    "    simpleSummaryExpected = tmp.read()\n",
    "with open('./files/simpleSummary.txt') as tmp:\n",
    "    simpleSummary = tmp.read()"
   ]
  },
  {
   "cell_type": "code",
   "execution_count": 11,
   "metadata": {},
   "outputs": [
    {
     "name": "stdout",
     "output_type": "stream",
     "text": [
      "False\n"
     ]
    }
   ],
   "source": [
    "print(simpleSummaryExpected==simpleSummary)"
   ]
  },
  {
   "cell_type": "code",
   "execution_count": 12,
   "metadata": {},
   "outputs": [
    {
     "name": "stdout",
     "output_type": "stream",
     "text": [
      "Course Name: UNIV111\n",
      "Number of Enrolled Students: 5\n",
      "Student with the Highest Grade: 7749\n",
      "Student with the Lowest Grade: 1023\n",
      "\n",
      "Weighted Average\n",
      "- Minimum Grade: 47.90\n",
      "- Maximum Grade: 66.90\n",
      "- Average Grade: 57.34\n",
      "- Median Grade: 57.10\n",
      "\n",
      "HW0\n",
      "- Minimum Grade: 55.00\n",
      "- Maximum Grade: 76.00\n",
      "- Average Grade: 65.50\n",
      "- Median Grade: 65.50\n",
      "\n",
      "HW1\n",
      "- Minimum Grade: 44.00\n",
      "- Maximum Grade: 78.00\n",
      "- Average Grade: 61.00\n",
      "- Median Grade: 61.00\n",
      "\n",
      "MT\n",
      "- Minimum Grade: 31.00\n",
      "- Maximum Grade: 86.00\n",
      "- Average Grade: 67.20\n",
      "- Median Grade: 75.00\n",
      "\n",
      "Final\n",
      "- Minimum Grade: 30.00\n",
      "- Maximum Grade: 73.00\n",
      "- Average Grade: 48.20\n",
      "- Median Grade: 40.00\n"
     ]
    }
   ],
   "source": [
    "print(simpleSummary)"
   ]
  },
  {
   "cell_type": "code",
   "execution_count": 13,
   "metadata": {},
   "outputs": [
    {
     "name": "stdout",
     "output_type": "stream",
     "text": [
      "Course Name: UNIV111\n",
      "Number of Enrolled Students: 5\n",
      "Student with the Highest Grade: 7749\n",
      "Student with the Lowest Grade: 1023\n",
      "\n",
      "Weighted Average\n",
      "- Minimum Grade: 47.9\n",
      "- Maximum Grade: 66.9\n",
      "- Average Grade: 57.34\n",
      "- Median Grade: 57.1\n",
      "\n",
      "HW1\n",
      "- Minimum Grade: 25.0\n",
      "- Maximum Grade: 78.0\n",
      "- Average Grade: 53.8\n",
      "- Median Grade: 46.0\n",
      "\n",
      "HW2\n",
      "- Minimum Grade: 26.0\n",
      "- Maximum Grade: 78.0\n",
      "- Average Grade: 59.2\n",
      "- Median Grade: 55.0\n",
      "\n",
      "MT\n",
      "- Minimum Grade: 31.0\n",
      "- Maximum Grade: 86.0\n",
      "- Average Grade: 67.2\n",
      "- Median Grade: 75.0\n",
      "\n",
      "Final\n",
      "- Minimum Grade: 30.0\n",
      "- Maximum Grade: 73.0\n",
      "- Average Grade: 48.2\n",
      "- Median Grade: 40.0\n",
      "\n"
     ]
    }
   ],
   "source": [
    "print(simpleSummaryExpected)"
   ]
  },
  {
   "cell_type": "markdown",
   "metadata": {},
   "source": [
    "The previously given spreadsheet also has the statistics for the Comp101.txt, we recommend you check it as well."
   ]
  },
  {
   "cell_type": "markdown",
   "metadata": {},
   "source": [
    "### Question 2: Data Preprocessing (40 points)\n",
    "\n",
    "You are asked to implement several data preprocessing approaches:\n",
    "* Data Clipping: If a data point is smaller/larger than a lower/higher threshold, clip the data to the threshold.\n",
    "* Min-Max Scaling: Mapping the data between a given range linearly\n",
    "* Median Filling: Replace any missing data with the median of the non-missing data\n",
    "* randomSelection: Selecting a random percentage of data\n",
    "\n",
    "We are going to assume that the given data is a 2D NumPy array of shape (n,d) where n is the number of points and d is the dimensionality of each data point (e.g. number of features, number of observations etc.)\n",
    "\n",
    "You do not need to do any error handling. However, debugging is left entirely upto you!"
   ]
  },
  {
   "cell_type": "code",
   "execution_count": 14,
   "metadata": {},
   "outputs": [],
   "source": [
    "# WARNING: We added a parameter to signal whether to preserve the original or change it\n",
    "# We do not care about this for grading. \n",
    "# However, the ability to have this option is important in real applications!\n",
    "# 5 points\n",
    "def dataClipping(data, lower, higher, columnID=None, inPlace = False):\n",
    "    \"\"\"\n",
    "    This function clips the given data between the lower and higher thresholds\n",
    "    A 1D example:\n",
    "    Let input = [-10,5,15], lower = -4, higher = 6\n",
    "    Then output = [-4,5,6]\n",
    "    \n",
    "    Inputs:\n",
    "    data: A 2D numpy array of shape (n,d)\n",
    "    lower: Lower threshold\n",
    "    higher: Higher threshold\n",
    "    columnID: The column to apply clipping to. If None, apply clipping to all the columns\n",
    "    \n",
    "    Outputs:\n",
    "    dataP: The clipped version of data, still a 2D numpy array of shape (n,d)\n",
    "    \"\"\"\n",
    "    \n",
    "    # YOUR CODE HERE\n",
    "    if not inPlace:\n",
    "        data = data.copy()\n",
    "    # Using conditional indexing!\n",
    "    if columnID:\n",
    "        lowerInds = data[:,columnID] < lower\n",
    "        higherInds = data[:,columnID] > higher\n",
    "        data[lowerInds,columnID] = lower\n",
    "        data[higherInds,columnID] = higher\n",
    "    else:\n",
    "        data[data < lower] = lower\n",
    "        data[data > higher] = higher\n",
    "    \n",
    "    return data"
   ]
  },
  {
   "cell_type": "code",
   "execution_count": 15,
   "metadata": {},
   "outputs": [
    {
     "name": "stdout",
     "output_type": "stream",
     "text": [
      "Original Data\n",
      "[[1 6 9]\n",
      " [9 3 9]\n",
      " [0 2 8]\n",
      " [4 6 3]\n",
      " [1 3 9]\n",
      " [2 6 3]\n",
      " [6 3 3]\n",
      " [5 5 2]\n",
      " [4 6 1]\n",
      " [5 3 7]]\n",
      "0 9\n",
      "Clipped Data\n",
      "[[3 6 6]\n",
      " [6 3 6]\n",
      " [3 3 6]\n",
      " [4 6 3]\n",
      " [3 3 6]\n",
      " [3 6 3]\n",
      " [6 3 3]\n",
      " [5 5 3]\n",
      " [4 6 3]\n",
      " [5 3 6]]\n",
      "3 6\n"
     ]
    }
   ],
   "source": [
    "data = np.random.randint(0,10,(10,3))\n",
    "print('Original Data')\n",
    "print(data)\n",
    "print(data.min(),data.max())\n",
    "print('Clipped Data')\n",
    "clipped = dataClipping(data,3,6)\n",
    "print(clipped)\n",
    "print(clipped.min(),clipped.max())"
   ]
  },
  {
   "cell_type": "code",
   "execution_count": 16,
   "metadata": {},
   "outputs": [
    {
     "name": "stdout",
     "output_type": "stream",
     "text": [
      "Original Data\n",
      "[[1 6 9]\n",
      " [9 3 9]\n",
      " [0 2 8]\n",
      " [4 6 3]\n",
      " [1 3 9]\n",
      " [2 6 3]\n",
      " [6 3 3]\n",
      " [5 5 2]\n",
      " [4 6 1]\n",
      " [5 3 7]]\n",
      "Only column 1 clipped data\n",
      "[[1 6 9]\n",
      " [9 3 9]\n",
      " [0 3 8]\n",
      " [4 6 3]\n",
      " [1 3 9]\n",
      " [2 6 3]\n",
      " [6 3 3]\n",
      " [5 5 2]\n",
      " [4 6 1]\n",
      " [5 3 7]]\n",
      "[0 3 1] [9 6 9]\n"
     ]
    }
   ],
   "source": [
    "print('Original Data')\n",
    "print(data)\n",
    "print('Only column 1 clipped data')\n",
    "clippedC1 = dataClipping(data,3,6,1)\n",
    "print(clippedC1)\n",
    "print(clippedC1.min(axis=0),clippedC1.max(axis=0))"
   ]
  },
  {
   "cell_type": "code",
   "execution_count": 17,
   "metadata": {},
   "outputs": [],
   "source": [
    "# 10 points\n",
    "def minMaxScaling(data, lower, higher, inPlace = False):\n",
    "    \"\"\"\n",
    "    This function scales each column of the data to be between lower and higher.\n",
    "    A 1D example:\n",
    "    Let input = [-10,5,15], lower = 0, higher = 1\n",
    "    Then output = [0,0.6,1]\n",
    "    \n",
    "    Math is (data-min)/(max-min)\n",
    "    \n",
    "    Inputs:\n",
    "    data: A 2D numpy array of shape (n,d)\n",
    "    lower: Lower bound\n",
    "    higher: Upper bound\n",
    "    \n",
    "    Outputs:\n",
    "    dataP: The scaled version of the data, still a 2D numpy array of shape (n,d)\n",
    "    \n",
    "    WARNING: This is per column so do not use min/max of one column for the other\n",
    "    \"\"\"\n",
    "    \n",
    "    # YOUR CODE HERE\n",
    "    # math is ((data-min)/(max-min))*(higher-lower) + lower\n",
    "    minCols = data.min(axis=0)\n",
    "    maxCols = data.max(axis=0)\n",
    "    if not inPlace:\n",
    "        data = data.copy()\n",
    "    data = (data-minCols)/(maxCols-minCols)*(higher-lower)+lower\n",
    "    \n",
    "    return data"
   ]
  },
  {
   "cell_type": "code",
   "execution_count": 18,
   "metadata": {},
   "outputs": [
    {
     "name": "stdout",
     "output_type": "stream",
     "text": [
      "Original Data\n",
      "[[-15.73250839 -28.91043813 -23.72599306]\n",
      " [ 43.6698752   34.95559175  29.52457098]\n",
      " [-35.02262154   0.92580988  -1.22570393]\n",
      " [-21.7217304   31.06830112  45.23703686]\n",
      " [ 37.18133633  33.30556326 -48.2483868 ]\n",
      " [-22.04605677   8.38484942   9.97095271]\n",
      " [-17.10381454  45.98727975 -12.51094452]\n",
      " [-24.16846729  -5.13044081 -14.86310645]\n",
      " [ 33.21113373 -40.84292305  45.38070849]\n",
      " [ -5.92291273  22.95326278 -21.6353954 ]]\n",
      "[-35.02262154 -40.84292305 -48.2483868 ] [43.6698752  45.98727975 45.38070849]\n",
      "\n",
      "Scaled Data 0,1\n",
      "[[0.24513281 0.13742321 0.26190997]\n",
      " [1.         0.87295103 0.83064946]\n",
      " [0.         0.48103922 0.50222298]\n",
      " [0.16902363 0.82818215 0.99846552]\n",
      " [0.91754565 0.8539481  0.        ]\n",
      " [0.16490219 0.56694296 0.6218082 ]\n",
      " [0.22770668 1.         0.38169163]\n",
      " [0.13793125 0.41129101 0.35656951]\n",
      " [0.86709354 0.         1.        ]\n",
      " [0.36979013 0.73472345 0.28423848]]\n",
      "[0. 0. 0.] [1. 1. 1.]\n"
     ]
    }
   ],
   "source": [
    "data = np.random.random((10,3))*100-50\n",
    "\n",
    "print('Original Data')\n",
    "print(data)\n",
    "print(data.min(axis=0),data.max(axis=0))\n",
    "print()\n",
    "\n",
    "mnsData = minMaxScaling(data, 0, 1)\n",
    "print('Scaled Data 0,1')\n",
    "print(mnsData)\n",
    "print(mnsData.min(axis=0),mnsData.max(axis=0))"
   ]
  },
  {
   "cell_type": "code",
   "execution_count": 19,
   "metadata": {},
   "outputs": [
    {
     "name": "stdout",
     "output_type": "stream",
     "text": [
      "Original Data\n",
      "[[-15.73250839 -28.91043813 -23.72599306]\n",
      " [ 43.6698752   34.95559175  29.52457098]\n",
      " [-35.02262154   0.92580988  -1.22570393]\n",
      " [-21.7217304   31.06830112  45.23703686]\n",
      " [ 37.18133633  33.30556326 -48.2483868 ]\n",
      " [-22.04605677   8.38484942   9.97095271]\n",
      " [-17.10381454  45.98727975 -12.51094452]\n",
      " [-24.16846729  -5.13044081 -14.86310645]\n",
      " [ 33.21113373 -40.84292305  45.38070849]\n",
      " [ -5.92291273  22.95326278 -21.6353954 ]]\n",
      "[-35.02262154 -40.84292305 -48.2483868 ] [43.6698752  45.98727975 45.38070849]\n",
      "\n",
      "Scaled Data -1,1\n",
      "[[-0.50973437 -0.72515359 -0.47618006]\n",
      " [ 1.          0.74590206  0.66129893]\n",
      " [-1.         -0.03792156  0.00444595]\n",
      " [-0.66195275  0.6563643   0.99693105]\n",
      " [ 0.83509129  0.70789619 -1.        ]\n",
      " [-0.67019563  0.13388593  0.24361641]\n",
      " [-0.54458664  1.         -0.23661673]\n",
      " [-0.7241375  -0.17741797 -0.28686099]\n",
      " [ 0.73418707 -1.          1.        ]\n",
      " [-0.26041973  0.46944689 -0.43152305]]\n",
      "[-1. -1. -1.] [1. 1. 1.]\n"
     ]
    }
   ],
   "source": [
    "print('Original Data')\n",
    "print(data)\n",
    "print(data.min(axis=0),data.max(axis=0))\n",
    "print()\n",
    "\n",
    "mnsData = minMaxScaling(data, -1, 1)\n",
    "print('Scaled Data -1,1')\n",
    "print(mnsData)\n",
    "print(mnsData.min(axis=0),mnsData.max(axis=0))"
   ]
  },
  {
   "cell_type": "code",
   "execution_count": 20,
   "metadata": {},
   "outputs": [
    {
     "name": "stdout",
     "output_type": "stream",
     "text": [
      "Original Data\n",
      "[[-15.73250839 -28.91043813 -23.72599306]\n",
      " [ 43.6698752   34.95559175  29.52457098]\n",
      " [-35.02262154   0.92580988  -1.22570393]\n",
      " [-21.7217304   31.06830112  45.23703686]\n",
      " [ 37.18133633  33.30556326 -48.2483868 ]\n",
      " [-22.04605677   8.38484942   9.97095271]\n",
      " [-17.10381454  45.98727975 -12.51094452]\n",
      " [-24.16846729  -5.13044081 -14.86310645]\n",
      " [ 33.21113373 -40.84292305  45.38070849]\n",
      " [ -5.92291273  22.95326278 -21.6353954 ]]\n",
      "[-35.02262154 -40.84292305 -48.2483868 ] [43.6698752  45.98727975 45.38070849]\n",
      "\n",
      "Scaled Data 3,5\n",
      "[[3.49026563 3.27484641 3.52381994]\n",
      " [5.         4.74590206 4.66129893]\n",
      " [3.         3.96207844 4.00444595]\n",
      " [3.33804725 4.6563643  4.99693105]\n",
      " [4.83509129 4.70789619 3.        ]\n",
      " [3.32980437 4.13388593 4.24361641]\n",
      " [3.45541336 5.         3.76338327]\n",
      " [3.2758625  3.82258203 3.71313901]\n",
      " [4.73418707 3.         5.        ]\n",
      " [3.73958027 4.46944689 3.56847695]]\n",
      "[3. 3. 3.] [5. 5. 5.]\n"
     ]
    }
   ],
   "source": [
    "print('Original Data')\n",
    "print(data)\n",
    "print(data.min(axis=0),data.max(axis=0))\n",
    "print()\n",
    "\n",
    "mnsData = minMaxScaling(data, 3, 5)\n",
    "print('Scaled Data 3,5')\n",
    "print(mnsData)\n",
    "print(mnsData.min(axis=0),mnsData.max(axis=0))"
   ]
  },
  {
   "cell_type": "code",
   "execution_count": 21,
   "metadata": {},
   "outputs": [],
   "source": [
    "# Some ambiguity, I will accept both the entire median and just the column median\n",
    "# Solution is column by column\n",
    "\n",
    "# 15 points\n",
    "def fillWithMedian(data, inPlace = False):\n",
    "    \"\"\"\n",
    "    This function replaces the missing data (given as np.nan) with the median of the rest of the data\n",
    "    A 1D example:\n",
    "    Let input = [-10,np.nan,15,5]\n",
    "    Then output = [-10,5,15,5]\n",
    "        \n",
    "    Inputs:\n",
    "    data: A 2D numpy array of shape (n,d)\n",
    "    lower: Lower bound\n",
    "    higher: Upper bound\n",
    "    \n",
    "    Outputs:\n",
    "    dataP: The filled version of the data, still a 2D numpy array of shape (n,d)\n",
    "    \n",
    "    WARNINGs: \n",
    "    - This is per column so do not mix the median of one column with the other\n",
    "    - There maybe more than 1 nan in a column!\n",
    "    \n",
    "    \"\"\"\n",
    "    \n",
    "    # YOUR CODE HERE\n",
    "    if not inPlace:\n",
    "        data = data.copy()\n",
    "        \n",
    "    n,d=data.shape\n",
    "    for i in range(d):\n",
    "        nanInds = np.isnan(data[:,i])\n",
    "        regInds = np.logical_not(nanInds)\n",
    "        data[nanInds,i] = np.median(data[regInds,i])\n",
    "    \n",
    "    return data\n",
    "    "
   ]
  },
  {
   "cell_type": "code",
   "execution_count": 22,
   "metadata": {},
   "outputs": [
    {
     "name": "stdout",
     "output_type": "stream",
     "text": [
      "Original Data\n",
      "[[ 4.  8.  9.]\n",
      " [ 6.  2.  5.]\n",
      " [ 2.  2.  5.]\n",
      " [ 5.  8.  1.]\n",
      " [ 2. nan  6.]\n",
      " [ 9.  0. nan]\n",
      " [ 3. nan nan]\n",
      " [ 2.  9.  4.]\n",
      " [ 5.  0.  4.]\n",
      " [ 3.  3. nan]]\n",
      "\n",
      "NaNs filled Data\n",
      "[[4.  8.  9. ]\n",
      " [6.  2.  5. ]\n",
      " [2.  2.  5. ]\n",
      " [5.  8.  1. ]\n",
      " [2.  2.5 6. ]\n",
      " [9.  0.  5. ]\n",
      " [3.  2.5 5. ]\n",
      " [2.  9.  4. ]\n",
      " [5.  0.  4. ]\n",
      " [3.  3.  5. ]]\n"
     ]
    }
   ],
   "source": [
    "data = np.random.randint(0,10,(10,3)).astype('float64')\n",
    "\n",
    "k = 5\n",
    "while k > 0:\n",
    "    k -= 1\n",
    "    i = np.random.randint(0,10)\n",
    "    j = np.random.randint(0,3)\n",
    "    data[i,j] = np.nan\n",
    "\n",
    "print('Original Data')\n",
    "print(data)\n",
    "print()\n",
    "\n",
    "filledData = fillWithMedian(data)\n",
    "print('NaNs filled Data')\n",
    "print(filledData)"
   ]
  },
  {
   "cell_type": "code",
   "execution_count": 23,
   "metadata": {},
   "outputs": [],
   "source": [
    "# THIS QUESTION HAD ITS OWN ISSUES. I AM PROVIDING A SOLUTION FOR MY ORIGINAL INTENT \n",
    "# HOWEVER, WE WILL GRADE IT BASED ON HOW YOU MAY HAVE UNDERSTOOD IT\n",
    "# We will let multiple intrepretations get full grades!\n",
    "# 10 points\n",
    "def randomSelection(data, ratio):\n",
    "    \"\"\"\n",
    "    This function selects a random portion of the data. The amount of data to be randomly picked is determined by ratio.\n",
    "    The random selection is done on the rows and not on the columns!\n",
    "    \n",
    "    A 1D example:\n",
    "    Let input = [-10,15,5] and ratio = 1/3\n",
    "    Then output = [5] (assuming 5 was randomly selected)\n",
    "    \n",
    "    A way to do random selection: Generate random row indices\n",
    "    \n",
    "    Inputs:\n",
    "    data: A 2D numpy array of shape (n,d)\n",
    "    ratio: Ratio of data to be selected randomly\n",
    "    \n",
    "    Outputs:\n",
    "    dataS: The randomly selected data pf shape (n*ratio, d)\n",
    "    \n",
    "    Note: Round d*ratio to the nearest integer using round(n*ratio)\n",
    "    \"\"\"\n",
    "    \n",
    "    # YOUR CODE HERE\n",
    "    n,d = data.shape\n",
    "    k = round(n*ratio)\n",
    "    inds = np.random.randint(0,n,k)\n",
    "    print(k)\n",
    "    return data[inds,:]"
   ]
  },
  {
   "cell_type": "code",
   "execution_count": 24,
   "metadata": {},
   "outputs": [
    {
     "name": "stdout",
     "output_type": "stream",
     "text": [
      "4\n",
      "(10, 3)\n",
      "(4, 3)\n",
      "\n",
      "[[0.7929979  0.84242827 0.88219308]\n",
      " [0.00506825 0.4367491  0.15616721]\n",
      " [0.99284149 0.91414038 0.1305127 ]\n",
      " [0.74167449 0.1611541  0.89365708]\n",
      " [0.41303669 0.03071142 0.87889626]\n",
      " [0.29340994 0.21365833 0.98904565]\n",
      " [0.60615315 0.62373057 0.30231672]\n",
      " [0.42890468 0.49821168 0.30299432]\n",
      " [0.42011129 0.94105531 0.66807365]\n",
      " [0.05035005 0.96189965 0.95397826]]\n",
      "\n",
      "[[0.42890468 0.49821168 0.30299432]\n",
      " [0.41303669 0.03071142 0.87889626]\n",
      " [0.60615315 0.62373057 0.30231672]\n",
      " [0.05035005 0.96189965 0.95397826]]\n"
     ]
    }
   ],
   "source": [
    "data = np.random.random((10,3))\n",
    "dataRand = randomSelection(data,0.4)\n",
    "print(data.shape)\n",
    "print(dataRand.shape)\n",
    "print()\n",
    "print(data)\n",
    "print()\n",
    "print(dataRand)"
   ]
  },
  {
   "cell_type": "code",
   "execution_count": null,
   "metadata": {},
   "outputs": [],
   "source": []
  }
 ],
 "metadata": {
  "kernelspec": {
   "display_name": "Python 3",
   "language": "python",
   "name": "python3"
  },
  "language_info": {
   "codemirror_mode": {
    "name": "ipython",
    "version": 3
   },
   "file_extension": ".py",
   "mimetype": "text/x-python",
   "name": "python",
   "nbconvert_exporter": "python",
   "pygments_lexer": "ipython3",
   "version": "3.7.6"
  }
 },
 "nbformat": 4,
 "nbformat_minor": 2
}
